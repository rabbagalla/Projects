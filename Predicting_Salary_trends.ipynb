        "y=data['income_category']\n",
        "# split data to train and test\n",
        "X_train, X_test, y_train, y_test=train_test_split(X, y, test_size=0.3)\n",
        "CM=confusion_matrix(y_test, y_pred)\n",
        "AS=accuracy_score(y_test, y_pred)\n",
        "CR=classification_report(y_test, y_pred)\n",
}
